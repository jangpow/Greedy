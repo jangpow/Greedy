{
 "cells": [
  {
   "cell_type": "code",
   "execution_count": 12,
   "id": "e66f53c5-3cc2-4afe-93c0-6da80bc9f187",
   "metadata": {},
   "outputs": [
    {
     "name": "stdout",
     "output_type": "stream",
     "text": [
      "2\n",
      "4\n",
      "5\n",
      "6\n"
     ]
    }
   ],
   "source": [
    "n=1260\n",
    "count=0\n",
    "\n",
    "#큰 단위의 화폐부터 차례로 확인\n",
    "coin_type=[500,100,50,10]\n",
    "\n",
    "for coin in coin_type:\n",
    "    count+=n//coin #해당 화폐로 거슬러 줄 수 있는 동전의 개수 세기\n",
    "    n%=coin\n",
    "    \n",
    "    print(count)\n"
   ]
  },
  {
   "cell_type": "code",
   "execution_count": 1,
   "id": "9ea0318b-9489-4878-8e9d-e80cba781f1b",
   "metadata": {},
   "outputs": [],
   "source": [
    "# 1번째 count=0, n//coin=2, count+=n//coin =2, n=260\n",
    "# 2번쨰 count=2, n//coin=2, count+=n//coin =4, n=60\n",
    "# 3번째 count=4, n//coin=1, count+=n//coin =5, n=10\n",
    "# 4번쨰 count=5, n//coin=1, count+=n//coin =6, n=0"
   ]
  },
  {
   "cell_type": "code",
   "execution_count": 2,
   "id": "9d20e78d-f104-43b9-a034-ec033c94500d",
   "metadata": {},
   "outputs": [],
   "source": [
    "def solution(n):\n",
    "    count=0\n",
    "    coin_type=[500,100,50,10]\n",
    "    \n",
    "    for coin in coin_type:\n",
    "        count+=n//coin\n",
    "        n%=coin\n",
    "    print(count)"
   ]
  },
  {
   "cell_type": "code",
   "execution_count": 3,
   "id": "1bbb8e7d-613f-4b9a-8d0f-caeaa01e2782",
   "metadata": {},
   "outputs": [
    {
     "name": "stdout",
     "output_type": "stream",
     "text": [
      "6\n"
     ]
    }
   ],
   "source": [
    "solution(3000)"
   ]
  },
  {
   "cell_type": "code",
   "execution_count": 4,
   "id": "ae6a95fb-eec4-4d88-85fb-d03f7a4f29d1",
   "metadata": {},
   "outputs": [
    {
     "name": "stdout",
     "output_type": "stream",
     "text": [
      "11\n"
     ]
    }
   ],
   "source": [
    "solution(2340)"
   ]
  },
  {
   "cell_type": "code",
   "execution_count": null,
   "id": "f5a16c05-b14d-4d0a-ae98-7311c51390a0",
   "metadata": {},
   "outputs": [],
   "source": []
  }
 ],
 "metadata": {
  "kernelspec": {
   "display_name": "Python 3 (ipykernel)",
   "language": "python",
   "name": "python3"
  },
  "language_info": {
   "codemirror_mode": {
    "name": "ipython",
    "version": 3
   },
   "file_extension": ".py",
   "mimetype": "text/x-python",
   "name": "python",
   "nbconvert_exporter": "python",
   "pygments_lexer": "ipython3",
   "version": "3.9.12"
  }
 },
 "nbformat": 4,
 "nbformat_minor": 5
}
