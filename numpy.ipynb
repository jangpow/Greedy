{
 "cells": [
  {
   "cell_type": "code",
   "execution_count": 1,
   "id": "18aaebf0-2b6b-4dcf-80a2-fe646b7eb078",
   "metadata": {},
   "outputs": [],
   "source": [
    "import numpy as np"
   ]
  },
  {
   "cell_type": "code",
   "execution_count": 4,
   "id": "c63afb11-2d2d-472c-b47e-f4f3fdbe854a",
   "metadata": {},
   "outputs": [],
   "source": [
    "x=np.array([10.5,5.2,3.25])"
   ]
  },
  {
   "cell_type": "code",
   "execution_count": 5,
   "id": "3aa74562-f036-4084-8651-df992ba525e0",
   "metadata": {},
   "outputs": [
    {
     "data": {
      "text/plain": [
       "(3,)"
      ]
     },
     "execution_count": 5,
     "metadata": {},
     "output_type": "execute_result"
    }
   ],
   "source": [
    "x.shape"
   ]
  },
  {
   "cell_type": "code",
   "execution_count": 16,
   "id": "6d3f69d9-c079-43c0-adea-d87e22a9abd9",
   "metadata": {},
   "outputs": [
    {
     "data": {
      "text/plain": [
       "3.25"
      ]
     },
     "execution_count": 16,
     "metadata": {},
     "output_type": "execute_result"
    }
   ],
   "source": [
    "i=2\n",
    "x[i]"
   ]
  },
  {
   "cell_type": "code",
   "execution_count": 18,
   "id": "d1873a64-f3fb-4c4f-8a0f-e9e2d6a6795c",
   "metadata": {},
   "outputs": [
    {
     "data": {
      "text/plain": [
       "(3, 1)"
      ]
     },
     "execution_count": 18,
     "metadata": {},
     "output_type": "execute_result"
    }
   ],
   "source": [
    "np.expand_dims(x,axis=1).shape"
   ]
  },
  {
   "cell_type": "code",
   "execution_count": 20,
   "id": "06739842-15eb-4649-a9ee-95d62dc0f859",
   "metadata": {},
   "outputs": [
    {
     "data": {
      "text/plain": [
       "array([[10.5 ],\n",
       "       [ 5.2 ],\n",
       "       [ 3.25]])"
      ]
     },
     "execution_count": 20,
     "metadata": {},
     "output_type": "execute_result"
    }
   ],
   "source": [
    "np.expand_dims(x,axis=1)"
   ]
  },
  {
   "cell_type": "code",
   "execution_count": 21,
   "id": "cf1006fb-8ff6-4759-a6cb-ac52578b4104",
   "metadata": {},
   "outputs": [],
   "source": [
    "A=np.array([\n",
    "    [10,20,30],\n",
    "    [40,50,60]])"
   ]
  },
  {
   "cell_type": "code",
   "execution_count": 22,
   "id": "bcafa7ef-4b1e-408f-822e-e76d36d7bde0",
   "metadata": {},
   "outputs": [
    {
     "data": {
      "text/plain": [
       "array([[10, 20, 30],\n",
       "       [40, 50, 60]])"
      ]
     },
     "execution_count": 22,
     "metadata": {},
     "output_type": "execute_result"
    }
   ],
   "source": [
    "A"
   ]
  },
  {
   "cell_type": "code",
   "execution_count": 23,
   "id": "83cbb085-bb7d-4e2b-b5d3-8b4fe98060e8",
   "metadata": {},
   "outputs": [
    {
     "data": {
      "text/plain": [
       "(2, 3)"
      ]
     },
     "execution_count": 23,
     "metadata": {},
     "output_type": "execute_result"
    }
   ],
   "source": [
    "A.shape"
   ]
  },
  {
   "cell_type": "code",
   "execution_count": 24,
   "id": "9fe99ecf-d759-4e73-916d-4c7894c40681",
   "metadata": {},
   "outputs": [
    {
     "data": {
      "text/plain": [
       "30"
      ]
     },
     "execution_count": 24,
     "metadata": {},
     "output_type": "execute_result"
    }
   ],
   "source": [
    "i=0\n",
    "j=2\n",
    "A[i,j]"
   ]
  },
  {
   "cell_type": "code",
   "execution_count": 25,
   "id": "9d667976-973d-4877-83ce-f1bfbaed3056",
   "metadata": {},
   "outputs": [
    {
     "data": {
      "text/plain": [
       "array([20, 50])"
      ]
     },
     "execution_count": 25,
     "metadata": {},
     "output_type": "execute_result"
    }
   ],
   "source": [
    "#column vector\n",
    "j=1\n",
    "A[:,j]"
   ]
  },
  {
   "cell_type": "code",
   "execution_count": 45,
   "id": "b89b2d1f-3de6-498e-9edf-89d41115a0a7",
   "metadata": {},
   "outputs": [
    {
     "data": {
      "text/plain": [
       "array([40, 50, 60])"
      ]
     },
     "execution_count": 45,
     "metadata": {},
     "output_type": "execute_result"
    }
   ],
   "source": [
    "#row vector\n",
    "i=1\n",
    "A[i,:]"
   ]
  },
  {
   "cell_type": "code",
   "execution_count": 30,
   "id": "cb5af691-04ac-45d8-96a6-458bd04df06c",
   "metadata": {},
   "outputs": [],
   "source": [
    "#행렬의 곱셉"
   ]
  },
  {
   "cell_type": "code",
   "execution_count": 33,
   "id": "215e74b9-03e9-40a0-9f43-001b265a712b",
   "metadata": {},
   "outputs": [
    {
     "data": {
      "text/plain": [
       "(32, 32)"
      ]
     },
     "execution_count": 33,
     "metadata": {},
     "output_type": "execute_result"
    }
   ],
   "source": [
    "import numpy as np\n",
    "x=np.array([1,2,3])\n",
    "y=np.array([4,5,6])\n",
    "x.dot(y),y.dot(x)"
   ]
  },
  {
   "cell_type": "code",
   "execution_count": 73,
   "id": "0001534c-01c9-4e3c-8030-cc804e2e1519",
   "metadata": {},
   "outputs": [
    {
     "data": {
      "text/plain": [
       "array([[ 4,  5,  6,  8, 10],\n",
       "       [ 8, 10, 12, 16, 20],\n",
       "       [12, 15, 18, 24, 30]])"
      ]
     },
     "execution_count": 73,
     "metadata": {},
     "output_type": "execute_result"
    }
   ],
   "source": [
    "x=np.array([1,2,3])\n",
    "y=np.array([4,5,6,8,10])\n",
    "x=np.expand_dims(x,axis=1)\n",
    "y=np.expand_dims(y,axis=0)\n",
    "x.dot(y)"
   ]
  },
  {
   "cell_type": "code",
   "execution_count": 49,
   "id": "cbf873dc-019d-44f1-b1e0-7ec98a03618f",
   "metadata": {},
   "outputs": [
    {
     "data": {
      "text/plain": [
       "array([[ 4,  5,  6],\n",
       "       [ 8, 10, 12],\n",
       "       [12, 15, 18]])"
      ]
     },
     "execution_count": 49,
     "metadata": {},
     "output_type": "execute_result"
    }
   ],
   "source": [
    "np.matmul(x,y)"
   ]
  },
  {
   "cell_type": "code",
   "execution_count": 50,
   "id": "e517f383-aae6-4bbb-951d-c4f485605d23",
   "metadata": {},
   "outputs": [],
   "source": [
    "#외적이 유용한 경우, A의 행렬은 모두 동일한 벡터x를 가지고 있음"
   ]
  },
  {
   "cell_type": "code",
   "execution_count": 51,
   "id": "c48a07de-b599-4934-93da-c9898a7ce801",
   "metadata": {},
   "outputs": [
    {
     "data": {
      "text/plain": [
       "array([[1],\n",
       "       [2],\n",
       "       [3]])"
      ]
     },
     "execution_count": 51,
     "metadata": {},
     "output_type": "execute_result"
    }
   ],
   "source": [
    "#column vector\n",
    "x=np.expand_dims(np.array([1,2,3]),axis=1)\n",
    "x"
   ]
  },
  {
   "cell_type": "code",
   "execution_count": 57,
   "id": "4d9c869e-7d8f-4870-8efe-57f88423a3c4",
   "metadata": {},
   "outputs": [
    {
     "data": {
      "text/plain": [
       "array([[1., 1., 1., 1.]])"
      ]
     },
     "execution_count": 57,
     "metadata": {},
     "output_type": "execute_result"
    }
   ],
   "source": [
    "ones=np.ones([1,4])\n",
    "ones"
   ]
  },
  {
   "cell_type": "code",
   "execution_count": 60,
   "id": "c777c5f6-0c67-4e99-858f-09c2b5a4d291",
   "metadata": {},
   "outputs": [
    {
     "data": {
      "text/plain": [
       "array([[1., 1., 1., 1.],\n",
       "       [2., 2., 2., 2.],\n",
       "       [3., 3., 3., 3.]])"
      ]
     },
     "execution_count": 60,
     "metadata": {},
     "output_type": "execute_result"
    }
   ],
   "source": [
    "A=np.matmul(x,ones)\n",
    "A"
   ]
  },
  {
   "cell_type": "code",
   "execution_count": 61,
   "id": "8beafd6c-06bd-4536-b84f-a15a6632ebfc",
   "metadata": {},
   "outputs": [],
   "source": [
    "#행렬과 벡터"
   ]
  },
  {
   "cell_type": "code",
   "execution_count": 62,
   "id": "74cd967e-3875-440a-b8ad-4c7dc11e1e31",
   "metadata": {},
   "outputs": [
    {
     "data": {
      "text/plain": [
       "array([[1, 2, 3],\n",
       "       [4, 5, 6]])"
      ]
     },
     "execution_count": 62,
     "metadata": {},
     "output_type": "execute_result"
    }
   ],
   "source": [
    "A=np.array([\n",
    "    [1,2,3],\n",
    "    [4,5,6]])\n",
    "A"
   ]
  },
  {
   "cell_type": "code",
   "execution_count": 67,
   "id": "bfb5f5d1-797b-4339-894f-1c1a00320d14",
   "metadata": {},
   "outputs": [
    {
     "data": {
      "text/plain": [
       "array([[1.],\n",
       "       [1.],\n",
       "       [1.]])"
      ]
     },
     "execution_count": 67,
     "metadata": {},
     "output_type": "execute_result"
    }
   ],
   "source": [
    "ones=np.ones([3,1])\n",
    "ones"
   ]
  },
  {
   "cell_type": "code",
   "execution_count": 69,
   "id": "e6a864b5-e4cc-4c4c-9672-a6eaf6a91bec",
   "metadata": {},
   "outputs": [
    {
     "data": {
      "text/plain": [
       "array([[ 6.],\n",
       "       [15.]])"
      ]
     },
     "execution_count": 69,
     "metadata": {},
     "output_type": "execute_result"
    }
   ],
   "source": [
    "x=np.matmul(A,ones)\n",
    "x"
   ]
  },
  {
   "cell_type": "code",
   "execution_count": 70,
   "id": "b163b0c0-c22c-471a-b74c-d29458a09e8d",
   "metadata": {},
   "outputs": [],
   "source": [
    "#열 벡터를 오른쪽에 곱하고(Ax), A가 열의 형태로 표현되었을 떄"
   ]
  },
  {
   "cell_type": "code",
   "execution_count": 71,
   "id": "bff3bf9e-dd88-490a-94ce-56a82eacd568",
   "metadata": {},
   "outputs": [
    {
     "data": {
      "text/plain": [
       "array([[4],\n",
       "       [5]])"
      ]
     },
     "execution_count": 71,
     "metadata": {},
     "output_type": "execute_result"
    }
   ],
   "source": [
    "A=np.array([\n",
    "    [1,0,1],\n",
    "    [0,1,1]])\n",
    "x=np.array([\n",
    "    [1],\n",
    "    [2],\n",
    "    [3]])\n",
    "np.matmul(A,x)"
   ]
  },
  {
   "cell_type": "code",
   "execution_count": 82,
   "id": "63827c3b-a1de-4440-9acc-e872f20c4541",
   "metadata": {},
   "outputs": [],
   "source": [
    "A=np.arange(1,7).reshape(2,3)"
   ]
  },
  {
   "cell_type": "code",
   "execution_count": 83,
   "id": "89620312-9c74-4994-91f0-8338851ad182",
   "metadata": {},
   "outputs": [
    {
     "data": {
      "text/plain": [
       "array([[1, 2, 3],\n",
       "       [4, 5, 6]])"
      ]
     },
     "execution_count": 83,
     "metadata": {},
     "output_type": "execute_result"
    }
   ],
   "source": [
    "A"
   ]
  },
  {
   "cell_type": "code",
   "execution_count": 87,
   "id": "c3751bf2-8ed3-46cc-83af-2b9b6c7413d5",
   "metadata": {},
   "outputs": [
    {
     "data": {
      "text/plain": [
       "array([[1, 4],\n",
       "       [2, 5],\n",
       "       [3, 6]])"
      ]
     },
     "execution_count": 87,
     "metadata": {},
     "output_type": "execute_result"
    }
   ],
   "source": [
    "A.T"
   ]
  },
  {
   "cell_type": "code",
   "execution_count": 86,
   "id": "65235f26-36ca-43d7-8cd9-e9a7ed0704c3",
   "metadata": {},
   "outputs": [
    {
     "data": {
      "text/plain": [
       "array([[1, 4],\n",
       "       [2, 5],\n",
       "       [3, 6]])"
      ]
     },
     "execution_count": 86,
     "metadata": {},
     "output_type": "execute_result"
    }
   ],
   "source": [
    "A.T"
   ]
  },
  {
   "cell_type": "code",
   "execution_count": 88,
   "id": "472dd4c5-ee7e-49cf-8ca5-62d1bd08d874",
   "metadata": {},
   "outputs": [
    {
     "data": {
      "text/plain": [
       "array([[1., 0.],\n",
       "       [0., 1.]])"
      ]
     },
     "execution_count": 88,
     "metadata": {},
     "output_type": "execute_result"
    }
   ],
   "source": [
    "np.eye(2)"
   ]
  },
  {
   "cell_type": "code",
   "execution_count": 95,
   "id": "b96921c3-fde5-41b0-8977-b1fb7447eb7c",
   "metadata": {},
   "outputs": [
    {
     "data": {
      "text/plain": [
       "matrix([[ 0.8, -0.2],\n",
       "        [-0.6,  0.4]])"
      ]
     },
     "execution_count": 95,
     "metadata": {},
     "output_type": "execute_result"
    }
   ],
   "source": [
    "A=np.matrix([[2,1],[3,4]])\n",
    "A.I"
   ]
  },
  {
   "cell_type": "code",
   "execution_count": 96,
   "id": "ae250282-02b7-4804-a70b-6372459fda4a",
   "metadata": {},
   "outputs": [
    {
     "data": {
      "text/plain": [
       "array([[4, 0, 0],\n",
       "       [0, 5, 0],\n",
       "       [0, 0, 6]])"
      ]
     },
     "execution_count": 96,
     "metadata": {},
     "output_type": "execute_result"
    }
   ],
   "source": [
    "np.diag([4,5,6])"
   ]
  },
  {
   "cell_type": "code",
   "execution_count": 97,
   "id": "16bdae2a-a8f0-4921-a194-bf0a6c78a7e0",
   "metadata": {},
   "outputs": [
    {
     "data": {
      "text/plain": [
       "array([1, 5, 9])"
      ]
     },
     "execution_count": 97,
     "metadata": {},
     "output_type": "execute_result"
    }
   ],
   "source": [
    "D=np.array([\n",
    "    [1,2,3],\n",
    "    [4,5,6],\n",
    "    [7,8,9]])\n",
    "np.diag(D)"
   ]
  },
  {
   "cell_type": "code",
   "execution_count": 98,
   "id": "5286b857-795e-448f-b34d-b948f806790e",
   "metadata": {},
   "outputs": [
    {
     "data": {
      "text/plain": [
       "array([[1., 0., 0.],\n",
       "       [0., 1., 0.],\n",
       "       [0., 0., 1.]])"
      ]
     },
     "execution_count": 98,
     "metadata": {},
     "output_type": "execute_result"
    }
   ],
   "source": [
    "np.eye(3)"
   ]
  },
  {
   "cell_type": "code",
   "execution_count": 99,
   "id": "12e3bfd9-4bc9-4ba8-9f9f-a8ce89f6b900",
   "metadata": {},
   "outputs": [
    {
     "data": {
      "text/plain": [
       "array([[1, 4, 7],\n",
       "       [2, 5, 8],\n",
       "       [3, 6, 9]])"
      ]
     },
     "execution_count": 99,
     "metadata": {},
     "output_type": "execute_result"
    }
   ],
   "source": [
    "A=np.array([\n",
    "    [1,2,3],\n",
    "    [4,5,6],\n",
    "    [7,8,9]])\n",
    "A.T"
   ]
  },
  {
   "cell_type": "code",
   "execution_count": 101,
   "id": "4671d8fa-f8f9-4c64-9d2a-dc16939ce61c",
   "metadata": {},
   "outputs": [
    {
     "data": {
      "text/plain": [
       "array([[ 63, 150, 237],\n",
       "       [156, 339, 522]])"
      ]
     },
     "execution_count": 101,
     "metadata": {},
     "output_type": "execute_result"
    }
   ],
   "source": [
    "B=np.array([[7,8],\n",
    "           [10,11],\n",
    "           [12,42]])\n",
    "np.matmul(A,B).T"
   ]
  },
  {
   "cell_type": "code",
   "execution_count": 102,
   "id": "da987cdf-8f11-4bd8-85c8-440c5b693d47",
   "metadata": {},
   "outputs": [],
   "source": [
    "#대칭핼렬"
   ]
  },
  {
   "cell_type": "code",
   "execution_count": 103,
   "id": "5596ba83-1137-4a8a-8a1f-4e47e51cde82",
   "metadata": {},
   "outputs": [
    {
     "data": {
      "text/plain": [
       "array([[ 14,  32,  50],\n",
       "       [ 32,  77, 122],\n",
       "       [ 50, 122, 194]])"
      ]
     },
     "execution_count": 103,
     "metadata": {},
     "output_type": "execute_result"
    }
   ],
   "source": [
    "np.matmul(A,A.T)"
   ]
  },
  {
   "cell_type": "code",
   "execution_count": 104,
   "id": "0ea14b26-1bad-40f9-90d1-3951bcded898",
   "metadata": {},
   "outputs": [
    {
     "data": {
      "text/plain": [
       "array([[ 66,  78,  90],\n",
       "       [ 78,  93, 108],\n",
       "       [ 90, 108, 126]])"
      ]
     },
     "execution_count": 104,
     "metadata": {},
     "output_type": "execute_result"
    }
   ],
   "source": [
    "np.matmul(A.T,A)"
   ]
  },
  {
   "cell_type": "code",
   "execution_count": 105,
   "id": "503e979c-4e3f-471a-add2-bb9820c23d89",
   "metadata": {},
   "outputs": [],
   "source": [
    "#norm"
   ]
  },
  {
   "cell_type": "code",
   "execution_count": 106,
   "id": "f99d9a9c-5e82-4de3-84c0-fda35d18de8d",
   "metadata": {},
   "outputs": [
    {
     "data": {
      "text/plain": [
       "5.0"
      ]
     },
     "execution_count": 106,
     "metadata": {},
     "output_type": "execute_result"
    }
   ],
   "source": [
    "import numpy.linalg as LA\n",
    "LA.norm(np.array([3,4]))"
   ]
  },
  {
   "cell_type": "code",
   "execution_count": 107,
   "id": "73c65adc-5478-4598-9601-ba09650c6066",
   "metadata": {},
   "outputs": [
    {
     "data": {
      "text/plain": [
       "16.881943016134134"
      ]
     },
     "execution_count": 107,
     "metadata": {},
     "output_type": "execute_result"
    }
   ],
   "source": [
    "A=np.array([\n",
    "    [1,2,3],\n",
    "    [4,5,6],\n",
    "    [7,8,9]])\n",
    "LA.norm(A)"
   ]
  },
  {
   "cell_type": "code",
   "execution_count": 110,
   "id": "f260ec33-9112-4a8d-8074-ec07ed779f12",
   "metadata": {},
   "outputs": [
    {
     "data": {
      "text/plain": [
       "16.881943016134134"
      ]
     },
     "execution_count": 110,
     "metadata": {},
     "output_type": "execute_result"
    }
   ],
   "source": [
    "np.trace(A.T.dot(A))**0.5"
   ]
  },
  {
   "cell_type": "code",
   "execution_count": 115,
   "id": "d435007f-8d13-4ccb-8df3-30fd9c70a7de",
   "metadata": {},
   "outputs": [],
   "source": [
    "#rank 함수"
   ]
  },
  {
   "cell_type": "code",
   "execution_count": 111,
   "id": "53a16fc4-034d-4560-9b03-78bd47ded1f6",
   "metadata": {},
   "outputs": [],
   "source": [
    "A=np.array([\n",
    "    [1,4,2],\n",
    "    [2,1,-3],\n",
    "    [3,5,-1]])\n"
   ]
  },
  {
   "cell_type": "code",
   "execution_count": 113,
   "id": "51f714db-76af-41ed-8040-4029ff72437d",
   "metadata": {},
   "outputs": [
    {
     "data": {
      "text/plain": [
       "array([ True,  True,  True])"
      ]
     },
     "execution_count": 113,
     "metadata": {},
     "output_type": "execute_result"
    }
   ],
   "source": [
    "A[:,2] == -2*A[:,0] + A[:,1]"
   ]
  },
  {
   "cell_type": "code",
   "execution_count": 114,
   "id": "4d6a494b-eb69-45e0-bd99-a1382b37d608",
   "metadata": {},
   "outputs": [
    {
     "data": {
      "text/plain": [
       "array([ 2, -3, -1])"
      ]
     },
     "execution_count": 114,
     "metadata": {},
     "output_type": "execute_result"
    }
   ],
   "source": [
    "a=-2*A[:,0] + A[:,1]\n",
    "a"
   ]
  },
  {
   "cell_type": "code",
   "execution_count": 116,
   "id": "30aeb5f2-3cb1-471f-ac6e-c7d05be4975d",
   "metadata": {},
   "outputs": [
    {
     "data": {
      "text/plain": [
       "2"
      ]
     },
     "execution_count": 116,
     "metadata": {},
     "output_type": "execute_result"
    }
   ],
   "source": [
    "LA.matrix_rank(A)"
   ]
  },
  {
   "cell_type": "code",
   "execution_count": 117,
   "id": "90ab72fa-c454-4bbb-af61-1b14b3a2f246",
   "metadata": {},
   "outputs": [],
   "source": [
    "# 역행렬"
   ]
  },
  {
   "cell_type": "code",
   "execution_count": 119,
   "id": "90d1e8a9-dc7e-4e22-ad34-c7b6ee17aeb9",
   "metadata": {},
   "outputs": [
    {
     "data": {
      "text/plain": [
       "array([[-2. ,  1. ],\n",
       "       [ 1.5, -0.5]])"
      ]
     },
     "execution_count": 119,
     "metadata": {},
     "output_type": "execute_result"
    }
   ],
   "source": [
    "A=np.array([\n",
    "    [1,2],\n",
    "    [3,4]])\n",
    "LA.inv(A)"
   ]
  },
  {
   "cell_type": "code",
   "execution_count": 120,
   "id": "db7073a2-130e-4e5c-9bda-7df10445918d",
   "metadata": {},
   "outputs": [
    {
     "data": {
      "text/plain": [
       "array([[1., 2.],\n",
       "       [3., 4.]])"
      ]
     },
     "execution_count": 120,
     "metadata": {},
     "output_type": "execute_result"
    }
   ],
   "source": [
    "LA.inv(LA.inv(A))"
   ]
  },
  {
   "cell_type": "code",
   "execution_count": 122,
   "id": "cebfe6e5-74d9-4d72-960c-50e925649017",
   "metadata": {},
   "outputs": [
    {
     "data": {
      "text/plain": [
       "-2.0000000000000004"
      ]
     },
     "execution_count": 122,
     "metadata": {},
     "output_type": "execute_result"
    }
   ],
   "source": [
    "A=np.array([\n",
    "    [1,2],\n",
    "    [3,4]])\n",
    "\n",
    "LA.det(A)"
   ]
  },
  {
   "cell_type": "code",
   "execution_count": 10,
   "id": "54589a29-2dd3-4ad7-8f0e-cb3d754252d4",
   "metadata": {},
   "outputs": [],
   "source": [
    "# 고유값과 고유벡터\n",
    "import numpy as np\n",
    "import numpy.linalg as LA\n",
    " \n",
    "A=np.array([[1,2,3],\n",
    "            [4,5,6],\n",
    "            [7,8,0]])"
   ]
  },
  {
   "cell_type": "code",
   "execution_count": 4,
   "id": "fedfb549-f17d-47c8-8068-d16c8016df38",
   "metadata": {},
   "outputs": [
    {
     "data": {
      "text/plain": [
       "array([[1, 2, 3],\n",
       "       [4, 5, 6],\n",
       "       [7, 8, 0]])"
      ]
     },
     "execution_count": 4,
     "metadata": {},
     "output_type": "execute_result"
    }
   ],
   "source": [
    "A"
   ]
  },
  {
   "cell_type": "code",
   "execution_count": 14,
   "id": "d8ebe6b6-241c-4ed0-97be-644049ae03e3",
   "metadata": {},
   "outputs": [
    {
     "data": {
      "text/plain": [
       "(array([12.12289378, -0.38838384, -5.73450994]),\n",
       " array([[-0.29982463, -0.74706733, -0.27625411],\n",
       "        [-0.70747178,  0.65820192, -0.38842554],\n",
       "        [-0.63999131, -0.09306254,  0.87909571]]))"
      ]
     },
     "execution_count": 14,
     "metadata": {},
     "output_type": "execute_result"
    }
   ],
   "source": [
    "LA.eig(A)"
   ]
  },
  {
   "cell_type": "code",
   "execution_count": 17,
   "id": "aded0423-4536-4502-a64d-1b47726ad3b3",
   "metadata": {},
   "outputs": [
    {
     "data": {
      "text/plain": [
       "array([0, 1, 2, 3, 4, 5, 6, 7, 8])"
      ]
     },
     "execution_count": 17,
     "metadata": {},
     "output_type": "execute_result"
    }
   ],
   "source": [
    "np.arange(9)"
   ]
  },
  {
   "cell_type": "code",
   "execution_count": 22,
   "id": "7f5f239a-e889-4a3d-8297-1ed6beaf45e1",
   "metadata": {},
   "outputs": [
    {
     "data": {
      "text/plain": [
       "array([[0, 1, 2],\n",
       "       [3, 4, 5],\n",
       "       [6, 7, 8]])"
      ]
     },
     "execution_count": 22,
     "metadata": {},
     "output_type": "execute_result"
    }
   ],
   "source": [
    "np.arange(9).reshape(3,3)"
   ]
  },
  {
   "cell_type": "code",
   "execution_count": 28,
   "id": "7b0057a9-3cb9-40e9-b7da-cc7be6db097f",
   "metadata": {},
   "outputs": [],
   "source": [
    "A=np.arange(25).reshape(5,5)"
   ]
  },
  {
   "cell_type": "code",
   "execution_count": 29,
   "id": "43b28897-a731-473f-8ea6-9eb853814270",
   "metadata": {},
   "outputs": [],
   "source": [
    "A=np.array(A)"
   ]
  },
  {
   "cell_type": "code",
   "execution_count": 30,
   "id": "3673bfa1-d59a-4099-8698-d9cae4266cba",
   "metadata": {},
   "outputs": [
    {
     "name": "stdout",
     "output_type": "stream",
     "text": [
      "[[ 0  1  2  3  4]\n",
      " [ 5  6  7  8  9]\n",
      " [10 11 12 13 14]\n",
      " [15 16 17 18 19]\n",
      " [20 21 22 23 24]]\n"
     ]
    }
   ],
   "source": [
    "print(A)"
   ]
  },
  {
   "cell_type": "code",
   "execution_count": null,
   "id": "50db8dfb-15a6-49f1-b267-839e8881d02e",
   "metadata": {},
   "outputs": [],
   "source": []
  },
  {
   "cell_type": "code",
   "execution_count": null,
   "id": "a11fd74e-be97-4919-b53f-d781817c8a2d",
   "metadata": {},
   "outputs": [],
   "source": []
  }
 ],
 "metadata": {
  "kernelspec": {
   "display_name": "Python 3 (ipykernel)",
   "language": "python",
   "name": "python3"
  },
  "language_info": {
   "codemirror_mode": {
    "name": "ipython",
    "version": 3
   },
   "file_extension": ".py",
   "mimetype": "text/x-python",
   "name": "python",
   "nbconvert_exporter": "python",
   "pygments_lexer": "ipython3",
   "version": "3.9.12"
  }
 },
 "nbformat": 4,
 "nbformat_minor": 5
}
