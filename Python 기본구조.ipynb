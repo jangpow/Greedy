{
 "cells": [
  {
   "cell_type": "markdown",
   "id": "548ab449",
   "metadata": {},
   "source": [
    "# Chapter 1. 파이썬 자료형\n",
    "\n",
    "### 1. 숫자형(Number)"
   ]
  },
  {
   "cell_type": "code",
   "execution_count": 2,
   "id": "45e11e87",
   "metadata": {},
   "outputs": [
    {
     "name": "stdout",
     "output_type": "stream",
     "text": [
      "1234 -12.34\n",
      "<class 'int'> <class 'float'>\n",
      "1221.66\n",
      "<class 'float'>\n"
     ]
    }
   ],
   "source": [
    "# 정수형 + 실수형\n",
    "\n",
    "a=1234\n",
    "b=-12.34\n",
    "c= a+b\n",
    "\n",
    "print(a,b)\n",
    "print(type(a),type(b))\n",
    "print(c)\n",
    "print(type(c))"
   ]
  },
  {
   "cell_type": "code",
   "execution_count": 3,
   "id": "165d9814",
   "metadata": {},
   "outputs": [
    {
     "name": "stdout",
     "output_type": "stream",
     "text": [
      "10\n",
      "-4\n",
      "21\n",
      "2187\n",
      "0.42857142857142855\n",
      "3\n",
      "0\n"
     ]
    }
   ],
   "source": [
    "# 사칙연산 가능\n",
    "a=3\n",
    "b=7\n",
    "\n",
    "print(a+b)\n",
    "print(a-b)\n",
    "print(a*b)\n",
    "print(a**b) #a의 b제곱\n",
    "print(a/b) #\n",
    "print(a%b) # 나머지 반환\n",
    "print(a//b) # 몫 반환"
   ]
  },
  {
   "cell_type": "markdown",
   "id": "0587d3a1",
   "metadata": {},
   "source": [
    "### 2. 문자열(String)자료형"
   ]
  },
  {
   "cell_type": "code",
   "execution_count": 9,
   "id": "4cc53c94",
   "metadata": {},
   "outputs": [
    {
     "name": "stdout",
     "output_type": "stream",
     "text": [
      "hello world\n",
      "hello pyhton's world\n",
      "\"Hello World\" he says\n",
      "hello world \n",
      "life is good\n"
     ]
    }
   ],
   "source": [
    "# 문자열 자료형\n",
    "\n",
    "a=\"hello world\"\n",
    "b=\"hello pyhton's world\"\n",
    "c='\"Hello World\" he says'\n",
    "d= \"hello world \\nlife is good\"  # \\n은 다음 줄에 문자열 표시하기\n",
    "\n",
    "print(a)\n",
    "print(b)\n",
    "print(c)\n",
    "print(d)"
   ]
  },
  {
   "cell_type": "code",
   "execution_count": 11,
   "id": "f42bb16c",
   "metadata": {},
   "outputs": [
    {
     "name": "stdout",
     "output_type": "stream",
     "text": [
      "python is good\n"
     ]
    }
   ],
   "source": [
    "# 문자열 더하기\n",
    "a='python'\n",
    "b=' '\n",
    "c='is good'\n",
    "print(a+b+c)"
   ]
  },
  {
   "cell_type": "code",
   "execution_count": 12,
   "id": "34db0380",
   "metadata": {},
   "outputs": [
    {
     "name": "stdout",
     "output_type": "stream",
     "text": [
      "PythonPythonPython\n"
     ]
    }
   ],
   "source": [
    "#문자열 곱하기\n",
    "\n",
    "a='Python'\n",
    "print(a*3)"
   ]
  },
  {
   "cell_type": "code",
   "execution_count": 13,
   "id": "5ba68ffa",
   "metadata": {},
   "outputs": [
    {
     "name": "stdout",
     "output_type": "stream",
     "text": [
      "33\n"
     ]
    }
   ],
   "source": [
    "# 문자열 길이 구하기\n",
    "\n",
    "a=\"Life is short, Python is valuable\"\n",
    "print(len(a))"
   ]
  },
  {
   "cell_type": "code",
   "execution_count": 16,
   "id": "4e2c6ddc",
   "metadata": {},
   "outputs": [
    {
     "name": "stdout",
     "output_type": "stream",
     "text": [
      "Lou\n"
     ]
    }
   ],
   "source": [
    "# 문자열 인덱싱\n",
    "a= \"Life is short, python is valuable\"\n",
    "b= a[0]\n",
    "c= a[10]\n",
    "d=a[-5]\n",
    "\n",
    "print(b+c+d)"
   ]
  },
  {
   "cell_type": "code",
   "execution_count": 18,
   "id": "151c3372",
   "metadata": {},
   "outputs": [
    {
     "name": "stdout",
     "output_type": "stream",
     "text": [
      "Life is good, Python is valuabl\n"
     ]
    }
   ],
   "source": [
    "# 문자열 슬리아싱\n",
    "a=\"Life is good, Python is valuable\"\n",
    "\n",
    "print(a[:-1])"
   ]
  },
  {
   "cell_type": "code",
   "execution_count": 20,
   "id": "ba6a9ab4",
   "metadata": {},
   "outputs": [
    {
     "data": {
      "text/plain": [
       "4"
      ]
     },
     "execution_count": 20,
     "metadata": {},
     "output_type": "execute_result"
    }
   ],
   "source": [
    "# 문자 개수 세기  / 특정 단어의 개수 세기 가능\n",
    "a= \"apple is so sweat. what is your favorite food?\"\n",
    "a.count(\"s\")"
   ]
  },
  {
   "cell_type": "code",
   "execution_count": 23,
   "id": "016fa7cf",
   "metadata": {},
   "outputs": [
    {
     "data": {
      "text/plain": [
       "6"
      ]
     },
     "execution_count": 23,
     "metadata": {},
     "output_type": "execute_result"
    }
   ],
   "source": [
    "# 문자 위치 찾기\n",
    "a= \"apple is so sweat. what is your favorite food?\"\n",
    "a.find(\"i\")"
   ]
  },
  {
   "cell_type": "code",
   "execution_count": 24,
   "id": "e97cb443",
   "metadata": {},
   "outputs": [
    {
     "name": "stdout",
     "output_type": "stream",
     "text": [
      "a.p.p.l.e. .i.s. .s.o. .s.w.e.a.t... .w.h.a.t. .i.s. .y.o.u.r. .f.a.v.o.r.i.t.e. .f.o.o.d.?\n"
     ]
    }
   ],
   "source": [
    "# 문자열 삽입  .join()\n",
    "a= \"apple is so sweat. what is your favorite food?\"\n",
    "b= \".\".join(a)\n",
    "\n",
    "# \" \" 안에 있는 내용을 .join()의 매개변수에 대입시켜준다.\n",
    "print(b)"
   ]
  },
  {
   "cell_type": "code",
   "execution_count": 25,
   "id": "02d73ec8",
   "metadata": {},
   "outputs": [
    {
     "name": "stdout",
     "output_type": "stream",
     "text": [
      "APPLE IS SO SWEAT. WHAT IS YOUR FAVORITE FOOD?\n",
      "apple is so sweat. what is your favorite food?\n"
     ]
    }
   ],
   "source": [
    "# 소문자와 대문자 바꾸기  .upper() / .lower()\n",
    "a= \"apple is so sweat. what is your favorite food?\"\n",
    "\n",
    "print(a.upper())\n",
    "print(a.lower())\n"
   ]
  },
  {
   "cell_type": "code",
   "execution_count": 31,
   "id": "94068b37",
   "metadata": {},
   "outputs": [
    {
     "name": "stdout",
     "output_type": "stream",
     "text": [
      "apple is so sweat. what is your favorite food?             \n",
      "             apple is so sweat. what is your favorite food?\n",
      "apple is so sweat. what is your favorite food?\n"
     ]
    }
   ],
   "source": [
    "# 공백 지우기   .strip()\n",
    "a= \"             apple is so sweat. what is your favorite food?             \"\n",
    "print(a.lstrip())\n",
    "print(a.rstrip())\n",
    "print(a.strip())"
   ]
  },
  {
   "cell_type": "code",
   "execution_count": 32,
   "id": "8fb2a317",
   "metadata": {},
   "outputs": [
    {
     "name": "stdout",
     "output_type": "stream",
     "text": [
      "Life is so sweat. what is your favorite food?\n"
     ]
    }
   ],
   "source": [
    "# 문자열 바꾸기  .replace(\"a\",\"b\")\n",
    "a= \"apple is so sweat. what is your favorite food?\"\n",
    "b= a.replace(\"apple\", \"Life\")\n",
    "print(b)"
   ]
  },
  {
   "cell_type": "code",
   "execution_count": 33,
   "id": "ac9e4af2",
   "metadata": {},
   "outputs": [
    {
     "data": {
      "text/plain": [
       "['apple', 'is', 'so', 'sweat.', 'what', 'is', 'your', 'favorite', 'food?']"
      ]
     },
     "execution_count": 33,
     "metadata": {},
     "output_type": "execute_result"
    }
   ],
   "source": [
    "#문자열 나누기 .split(\".\")\n",
    "a= \"apple is so sweat. what is your favorite food?\"\n",
    "a.split(\" \")"
   ]
  },
  {
   "cell_type": "markdown",
   "id": "0542591f",
   "metadata": {},
   "source": [
    "### (3) List 자료형"
   ]
  },
  {
   "cell_type": "code",
   "execution_count": 36,
   "id": "a9d33b5f",
   "metadata": {},
   "outputs": [
    {
     "name": "stdout",
     "output_type": "stream",
     "text": [
      "[1, 2, 3, 4, 5, 1, 2, 3, 4, 5, 'a', 'b', 'c', 'a', 'b', 'c']\n",
      "16\n"
     ]
    }
   ],
   "source": [
    "# 기본연산\n",
    "a=[1,2,3,4,5]\n",
    "b=['a','b','c']\n",
    "c= a*2 +b*2\n",
    "d=len(c)\n",
    "print(c)\n",
    "print(d)"
   ]
  },
  {
   "cell_type": "code",
   "execution_count": 38,
   "id": "9b00f814",
   "metadata": {},
   "outputs": [
    {
     "name": "stdout",
     "output_type": "stream",
     "text": [
      "1\n",
      "[2]\n",
      "[1, 2, 3, 4]\n"
     ]
    }
   ],
   "source": [
    "#리스트 인덱싱과 슬라이싱\n",
    "\n",
    "a=[1,2,3,4,5]\n",
    "print(a[0])\n",
    "print(a[1:2])\n",
    "print(a[:-1])"
   ]
  },
  {
   "cell_type": "code",
   "execution_count": 47,
   "id": "292974ba",
   "metadata": {},
   "outputs": [
    {
     "name": "stdout",
     "output_type": "stream",
     "text": [
      "4\n",
      "c\n"
     ]
    }
   ],
   "source": [
    "# 중첩 리스트 인덱싱과 슬라이싱\n",
    "a=[1,2,3,4,5,['a','b','c']]\n",
    "\n",
    "print(a[3])\n",
    "print(a[5][2])\n"
   ]
  },
  {
   "cell_type": "code",
   "execution_count": 48,
   "id": "c5f1dd8a",
   "metadata": {},
   "outputs": [
    {
     "name": "stdout",
     "output_type": "stream",
     "text": [
      "[1, 2, 3, 5]\n"
     ]
    }
   ],
   "source": [
    "# 리스트 요소의 수정과 삭제 del a[]\n",
    "\n",
    "a=[1,2,3,4,5]\n",
    "\n",
    "del a[3]\n",
    "\n",
    "print(a)"
   ]
  },
  {
   "cell_type": "code",
   "execution_count": 51,
   "id": "e67c2318",
   "metadata": {},
   "outputs": [
    {
     "name": "stdout",
     "output_type": "stream",
     "text": [
      "[1, 2, 3, 4, 5, 20]\n"
     ]
    }
   ],
   "source": [
    "# 리스트 요소 추가 .append()\n",
    "\n",
    "a=[1,2,3,4,5]\n",
    "\n",
    "a.append(20)\n",
    "\n",
    "print(a)"
   ]
  },
  {
   "cell_type": "code",
   "execution_count": 53,
   "id": "f47a0cde",
   "metadata": {},
   "outputs": [
    {
     "name": "stdout",
     "output_type": "stream",
     "text": [
      "[12, 23, 31, 52, 4232]\n"
     ]
    }
   ],
   "source": [
    "# 리스트 정렬 / .sort()\n",
    "\n",
    "a=[12,23,31,4232,52]\n",
    "\n",
    "a.sort()\n",
    "\n",
    "print(a)\n"
   ]
  },
  {
   "cell_type": "code",
   "execution_count": 54,
   "id": "14127a49",
   "metadata": {},
   "outputs": [
    {
     "name": "stdout",
     "output_type": "stream",
     "text": [
      "2\n"
     ]
    }
   ],
   "source": [
    "# 리스트 요소의 위치 반환 / .index()\n",
    "\n",
    "a=[1,2,3,4,5]\n",
    "\n",
    "b=a.index(3)\n",
    "\n",
    "print(b)"
   ]
  },
  {
   "cell_type": "code",
   "execution_count": 55,
   "id": "22e2962a",
   "metadata": {},
   "outputs": [
    {
     "name": "stdout",
     "output_type": "stream",
     "text": [
      "[1, 2, 3, 10, 4, 5]\n"
     ]
    }
   ],
   "source": [
    "# 리스트 요소 삽입 / .insert('index','value')\n",
    "\n",
    "a=[1,2,3,4,5]\n",
    "\n",
    "a.insert(3,10)\n",
    "\n",
    "print(a)\n"
   ]
  },
  {
   "cell_type": "code",
   "execution_count": 56,
   "id": "4ca90085",
   "metadata": {},
   "outputs": [
    {
     "name": "stdout",
     "output_type": "stream",
     "text": [
      "[1, 2, 4, 5]\n"
     ]
    }
   ],
   "source": [
    "# 리스트 요소 제거 /  .remove()\n",
    "\n",
    "a=[1,2,3,4,5]\n",
    "\n",
    "a.remove(3)\n",
    "\n",
    "print(a)"
   ]
  },
  {
   "cell_type": "code",
   "execution_count": 59,
   "id": "a5b61e7e",
   "metadata": {},
   "outputs": [
    {
     "name": "stdout",
     "output_type": "stream",
     "text": [
      "[1, 2, 3, 4, 5, 7, 8, 3, 4, 1, 7, 7, 89, 9]\n",
      "6\n"
     ]
    }
   ],
   "source": [
    "# 리스트 요소 뽑기 / .pop()\n",
    "\n",
    "a=[1,2,3,4,5,6,7,8,3,4,1,7,7,89,9]\n",
    "\n",
    "b=a.pop(5)\n",
    "\n",
    "print(a)\n",
    "print(b)\n"
   ]
  },
  {
   "cell_type": "code",
   "execution_count": 61,
   "id": "249a01b6",
   "metadata": {},
   "outputs": [
    {
     "name": "stdout",
     "output_type": "stream",
     "text": [
      "3\n"
     ]
    }
   ],
   "source": [
    "# 리스트 요소 세기 / .count()\n",
    "\n",
    "a=[1,2,3,4,5,6,7,8,3,4,1,7,7,89,9]\n",
    "\n",
    "b= a.count(1)\n",
    "\n",
    "print(3)"
   ]
  },
  {
   "cell_type": "markdown",
   "id": "67978b3f",
   "metadata": {},
   "source": [
    "### (4) Tuple(튜플) 자료형\n",
    "\n",
    "**튜플과 리스트의 차이점: 소괄호()를 사용하며, 튜플은 요소를 변경할 수 없다.** \\\n",
    "**리스트는 수정,삭제,생성 등이 가능하나 튜플은 불가능**"
   ]
  },
  {
   "cell_type": "code",
   "execution_count": 62,
   "id": "c650e06b",
   "metadata": {},
   "outputs": [
    {
     "data": {
      "text/plain": [
       "1"
      ]
     },
     "execution_count": 62,
     "metadata": {},
     "output_type": "execute_result"
    }
   ],
   "source": [
    "a=(1,2,3,4,5,6,7,8,3,4,1,7,7,89,9)\n",
    "a[0]"
   ]
  },
  {
   "cell_type": "markdown",
   "id": "c4034dba",
   "metadata": {},
   "source": [
    "### (5) Dictionary(딕셔너리) 자료형\n",
    "\n",
    "**키(key)와 값(Value)으로 이루어진 자료형이다.** \\\n",
    "**키를 통해 값을 얻는 구조로 이루어져있다.**  \\\n",
    "**중괄호{ }를 사용한다.**"
   ]
  },
  {
   "cell_type": "code",
   "execution_count": 63,
   "id": "fbd3c0ba",
   "metadata": {},
   "outputs": [
    {
     "name": "stdout",
     "output_type": "stream",
     "text": [
      "Jojiha\n"
     ]
    }
   ],
   "source": [
    "# 자료구조\n",
    "\n",
    "a={'name':'Jojiha','sex':'male','age':'16'}\n",
    "\n",
    "print(a['name'])"
   ]
  },
  {
   "cell_type": "code",
   "execution_count": 64,
   "id": "3e673c39",
   "metadata": {},
   "outputs": [
    {
     "name": "stdout",
     "output_type": "stream",
     "text": [
      "dict_keys(['name', 'sex', 'age'])\n",
      "['name', 'sex', 'age']\n"
     ]
    }
   ],
   "source": [
    "# 딕셔너리 키 리스트 만들기/ .keys()\n",
    "a={'name':'Jojiha','sex':'male','age':'16'}\n",
    "\n",
    "b=a.keys()\n",
    "c= list(a.keys())\n",
    "\n",
    "print(b)\n",
    "print(c)"
   ]
  },
  {
   "cell_type": "code",
   "execution_count": 65,
   "id": "3ee27489",
   "metadata": {},
   "outputs": [
    {
     "name": "stdout",
     "output_type": "stream",
     "text": [
      "dict_values(['Jojiha', 'male', '16'])\n",
      "['Jojiha', 'male', '16']\n"
     ]
    }
   ],
   "source": [
    "# 딕서너리 값 리스트 만들기 .valeus()\n",
    "\n",
    "a={'name':'Jojiha','sex':'male','age':'16'}\n",
    "\n",
    "b= a.values()\n",
    "c= list(a.values())\n",
    "\n",
    "print(b)\n",
    "print(c)"
   ]
  },
  {
   "cell_type": "code",
   "execution_count": 66,
   "id": "f1ef041b",
   "metadata": {},
   "outputs": [
    {
     "name": "stdout",
     "output_type": "stream",
     "text": [
      "dict_items([('name', 'Jojiha'), ('sex', 'male'), ('age', '16')])\n",
      "[('name', 'Jojiha'), ('sex', 'male'), ('age', '16')]\n"
     ]
    }
   ],
   "source": [
    "# 딕셔너리 키 / 값 리스트 만들기 / .items()\n",
    "\n",
    "a={'name':'Jojiha','sex':'male','age':'16'}\n",
    "\n",
    "b= a.items()\n",
    "c= list(a.items())\n",
    "\n",
    "print(b)\n",
    "print(c)"
   ]
  },
  {
   "cell_type": "code",
   "execution_count": 71,
   "id": "6d7836ba",
   "metadata": {},
   "outputs": [
    {
     "name": "stdout",
     "output_type": "stream",
     "text": [
      "Jojiha\n",
      "None\n"
     ]
    }
   ],
   "source": [
    "# 딕셔너리 키로 값 호출하기 / .get()\n",
    "\n",
    "a={'name':'Jojiha','sex':'male','age':'16'}\n",
    "\n",
    "b= a.get('name', 'house')\n",
    "c= a.get('house')\n",
    "print(b)\n",
    "print(c)"
   ]
  },
  {
   "cell_type": "markdown",
   "id": "c930da9c",
   "metadata": {},
   "source": [
    "### (6) 집합 자료형\n",
    "\n",
    "**집합 자료형은 중복을 허용하지 않으며 순서가 없다는 특징이 있다.** \\\n",
    "**중괄호{}로 표현하며 .set() 함수를 사용해서 만들 수 있다.**"
   ]
  },
  {
   "cell_type": "code",
   "execution_count": 72,
   "id": "e13b18dd",
   "metadata": {},
   "outputs": [
    {
     "name": "stdout",
     "output_type": "stream",
     "text": [
      "{1, 2, 3, 4, 5}\n",
      "{1, 2, 3, 4, 5}\n",
      "{'y', 't', 'o', 'P', 'h', 'n'}\n"
     ]
    }
   ],
   "source": [
    "a={1,2,3,4,5}\n",
    "b=set([1,2,3,4,5])\n",
    "c=set(\"Python\")\n",
    "\n",
    "print(a)\n",
    "print(b)\n",
    "print(c)"
   ]
  },
  {
   "cell_type": "code",
   "execution_count": 74,
   "id": "a4f815d2",
   "metadata": {},
   "outputs": [
    {
     "name": "stdout",
     "output_type": "stream",
     "text": [
      "{1, 2}\n",
      "{1, 2}\n"
     ]
    }
   ],
   "source": [
    "# 집합 자료형 교집합 / & or intersection()\n",
    "\n",
    "a=set([1,2,8,42,43,25])\n",
    "b=set([1,2,3,4,5])\n",
    "\n",
    "c=a&b\n",
    "d= a.intersection(b)\n",
    "\n",
    "print(c)\n",
    "print(d)"
   ]
  },
  {
   "cell_type": "code",
   "execution_count": 76,
   "id": "b45bad94",
   "metadata": {},
   "outputs": [
    {
     "name": "stdout",
     "output_type": "stream",
     "text": [
      "{1, 2, 3, 4, 5, 8, 42, 43, 25}\n",
      "{1, 2, 3, 4, 5, 8, 42, 43, 25}\n"
     ]
    }
   ],
   "source": [
    "# 집합 자료형 합집합 / | or .union()\n",
    "\n",
    "a=set([1,2,8,42,43,25])\n",
    "b=set([1,2,3,4,5])\n",
    "\n",
    "c= a|b\n",
    "d= a.union(b)\n",
    "\n",
    "print(c)\n",
    "print(d)"
   ]
  },
  {
   "cell_type": "code",
   "execution_count": 77,
   "id": "9aa07728",
   "metadata": {},
   "outputs": [
    {
     "name": "stdout",
     "output_type": "stream",
     "text": [
      "{8, 25, 42, 43}\n",
      "{8, 25, 42, 43}\n"
     ]
    }
   ],
   "source": [
    "# 집합 자료형 차집합 /  - or difference()\n",
    "\n",
    "a=set([1,2,8,42,43,25])\n",
    "b=set([1,2,3,4,5])\n",
    "\n",
    "c= a-b\n",
    "d= a.difference(b)\n",
    "\n",
    "print(c)\n",
    "print(d)"
   ]
  },
  {
   "cell_type": "code",
   "execution_count": null,
   "id": "98a285b2",
   "metadata": {},
   "outputs": [],
   "source": []
  }
 ],
 "metadata": {
  "kernelspec": {
   "display_name": "Python 3 (ipykernel)",
   "language": "python",
   "name": "python3"
  },
  "language_info": {
   "codemirror_mode": {
    "name": "ipython",
    "version": 3
   },
   "file_extension": ".py",
   "mimetype": "text/x-python",
   "name": "python",
   "nbconvert_exporter": "python",
   "pygments_lexer": "ipython3",
   "version": "3.9.12"
  }
 },
 "nbformat": 4,
 "nbformat_minor": 5
}
