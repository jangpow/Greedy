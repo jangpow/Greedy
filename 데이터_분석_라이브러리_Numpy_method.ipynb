{
  "cells": [
    {
      "cell_type": "markdown",
      "metadata": {
        "id": "kv6gH7G01Pal"
      },
      "source": [
        "## Numpy"
      ]
    },
    {
      "cell_type": "markdown",
      "metadata": {
        "id": "RQWkeQgD1Pam"
      },
      "source": [
        "### 1. Numpy Array and Operation"
      ]
    },
    {
      "cell_type": "markdown",
      "metadata": {
        "id": "igGUA1oE1Pam"
      },
      "source": [
        "- numpy의 기본적인 사용법에 대해서 배워봅니다.\n",
        "\n",
        "\n",
        "- numpy에서 numpy.array를 만드는 여러가지 방법과 지원하는 연산자에 대해서 공부합니다."
      ]
    },
    {
      "cell_type": "markdown",
      "source": [
        "### 1.1. Numpy Array creation"
      ],
      "metadata": {
        "id": "ZzPzxgQ53PcS"
      }
    },
    {
      "cell_type": "code",
      "execution_count": null,
      "metadata": {
        "id": "MoD6QOXY1Pan"
      },
      "outputs": [],
      "source": [
        "# numpy 라이브러리를 불러옵니다.\n",
        "import numpy as np"
      ]
    },
    {
      "cell_type": "code",
      "execution_count": null,
      "metadata": {
        "id": "bqVEQaBP1Pan",
        "outputId": "4ce5d135-da96-4f78-ae52-d114510fb370",
        "colab": {
          "base_uri": "https://localhost:8080/"
        }
      },
      "outputs": [
        {
          "output_type": "execute_result",
          "data": {
            "text/plain": [
              "[1, 2, 3, 4, 5]"
            ]
          },
          "metadata": {},
          "execution_count": 2
        }
      ],
      "source": [
        "# 파이썬 리스트 선언\n",
        "data = [1,2,3,4,5]\n",
        "data"
      ]
    },
    {
      "cell_type": "code",
      "execution_count": null,
      "metadata": {
        "id": "jADukVLG1Pan",
        "outputId": "6fff4cdd-a4af-4ed6-b26c-6ad7ade4b93a",
        "colab": {
          "base_uri": "https://localhost:8080/"
        }
      },
      "outputs": [
        {
          "output_type": "execute_result",
          "data": {
            "text/plain": [
              "[[1, 2], [3, 4]]"
            ]
          },
          "metadata": {},
          "execution_count": 3
        }
      ],
      "source": [
        "# 파이썬 2차원 리스트(행렬) 선언\n",
        "data2 = [[1,2],[3,4]]\n",
        "data2"
      ]
    },
    {
      "cell_type": "code",
      "execution_count": null,
      "metadata": {
        "id": "jQq60ZfX1Pan",
        "outputId": "8c716720-f102-45b4-ab55-c27429854295",
        "colab": {
          "base_uri": "https://localhost:8080/"
        }
      },
      "outputs": [
        {
          "output_type": "execute_result",
          "data": {
            "text/plain": [
              "array([1, 2, 3, 4, 5])"
            ]
          },
          "metadata": {},
          "execution_count": 4
        }
      ],
      "source": [
        "# 파이썬 list를 numpy array로 변환합니다.\n",
        "arr= np.array(data)\n",
        "# numpy array를 만드는 방식의 대부분은 파이썬 리스트를 np.array로 변환하는 방식입니다.\n",
        "arr= np.array([1,2,3,4,5])\n",
        "arr"
      ]
    },
    {
      "cell_type": "code",
      "execution_count": null,
      "metadata": {
        "id": "eqbxPjfu1Pao",
        "outputId": "7f264b1c-24fd-4b58-ed14-2195fce4675b",
        "colab": {
          "base_uri": "https://localhost:8080/"
        }
      },
      "outputs": [
        {
          "output_type": "execute_result",
          "data": {
            "text/plain": [
              "array([[1, 2],\n",
              "       [3, 4]])"
            ]
          },
          "metadata": {},
          "execution_count": 7
        }
      ],
      "source": [
        "# 2차원 리스트를 np.array로 만듭니다.\n",
        "arr2 = np.array(data2) # data2라는 리스트를 numpy array로 만들어라.\n",
        "arr2 # 2차원 numpy array -> 행렬!"
      ]
    },
    {
      "cell_type": "code",
      "execution_count": null,
      "metadata": {
        "id": "oMdYjtc21Pao",
        "outputId": "2069a524-df85-4b4b-b9a9-37db0888a3f7",
        "colab": {
          "base_uri": "https://localhost:8080/"
        }
      },
      "outputs": [
        {
          "output_type": "stream",
          "name": "stdout",
          "text": [
            "[0 1 2 3 4 5 6 7 8 9]\n"
          ]
        }
      ],
      "source": [
        "# 0부터 9까지 숫자를 자동으로 생성한 array\n",
        "print(np.array(list(range(10))))"
      ]
    },
    {
      "cell_type": "code",
      "execution_count": null,
      "metadata": {
        "id": "NwMSPz0Z1Pao",
        "outputId": "ad8025f0-5773-4a1a-8f8d-00db2576a133",
        "colab": {
          "base_uri": "https://localhost:8080/"
        }
      },
      "outputs": [
        {
          "output_type": "stream",
          "name": "stdout",
          "text": [
            "[10 11 12 13 14 15 16 17 18 19 20 21 22 23 24 25 26 27 28 29 30 31 32 33\n",
            " 34 35 36 37 38 39 40 41 42 43 44 45 46 47 48 49 50 51 52 53 54 55 56 57\n",
            " 58 59 60 61 62 63 64 65 66 67 68 69 70 71 72 73 74 75 76 77 78 79 80 81\n",
            " 82 83 84 85 86 87 88 89 90 91 92 93 94 95 96 97 98 99]\n"
          ]
        }
      ],
      "source": [
        "# 10부터 99까지 숫자를 자동으로 생성한 array\n",
        "print(np.arange(10,100))"
      ]
    },
    {
      "cell_type": "code",
      "source": [
        "arr.shape"
      ],
      "metadata": {
        "id": "ADn9cENSWIpc",
        "outputId": "efdc44cf-297a-4f65-89a9-e529df435fa2",
        "colab": {
          "base_uri": "https://localhost:8080/"
        }
      },
      "execution_count": null,
      "outputs": [
        {
          "output_type": "execute_result",
          "data": {
            "text/plain": [
              "(5,)"
            ]
          },
          "metadata": {},
          "execution_count": 13
        }
      ]
    },
    {
      "cell_type": "markdown",
      "metadata": {
        "id": "UFFwSitw1Pao"
      },
      "source": [
        "### 1.2. Reshaping array"
      ]
    },
    {
      "cell_type": "code",
      "execution_count": null,
      "metadata": {
        "id": "-vcHHFl81Pao",
        "outputId": "47a71179-536b-46b4-b38d-4baf29859ac1",
        "colab": {
          "base_uri": "https://localhost:8080/"
        }
      },
      "outputs": [
        {
          "output_type": "execute_result",
          "data": {
            "text/plain": [
              "array([[1, 2, 3],\n",
              "       [4, 5, 6],\n",
              "       [7, 8, 9]])"
            ]
          },
          "metadata": {},
          "execution_count": 21
        }
      ],
      "source": [
        "# 3 x 3 행렬을 만들어봅시다.\n",
        "x = np.array([[1,2,3],[4,5,6],[ 7,8,9]])\n",
        "x"
      ]
    },
    {
      "cell_type": "code",
      "execution_count": null,
      "metadata": {
        "id": "HChX3Sv91Pao",
        "outputId": "ed809877-3ed1-4079-970b-f0b59b0b1c6d",
        "colab": {
          "base_uri": "https://localhost:8080/"
        }
      },
      "outputs": [
        {
          "output_type": "execute_result",
          "data": {
            "text/plain": [
              "array([[1, 2, 3],\n",
              "       [4, 5, 6],\n",
              "       [7, 8, 9]])"
            ]
          },
          "metadata": {},
          "execution_count": 23
        }
      ],
      "source": [
        "# reshape을 이용하여 만들어봅시다.\n",
        "np.arange(1,10).reshape(3,3)"
      ]
    },
    {
      "cell_type": "code",
      "source": [
        "# row vector를 column vector로\n",
        "np.arange(6).reshape(6,1)     #(6,0) != (6,1) / (6,0) : 1행 6열 , (6,1) : 6행 1열"
      ],
      "metadata": {
        "id": "jKHQRaFx5QFT",
        "outputId": "cb27b892-b6ea-4255-dc54-389fbc467506",
        "colab": {
          "base_uri": "https://localhost:8080/"
        }
      },
      "execution_count": null,
      "outputs": [
        {
          "output_type": "execute_result",
          "data": {
            "text/plain": [
              "array([[0],\n",
              "       [1],\n",
              "       [2],\n",
              "       [3],\n",
              "       [4],\n",
              "       [5]])"
            ]
          },
          "metadata": {},
          "execution_count": 27
        }
      ]
    },
    {
      "cell_type": "code",
      "source": [
        "# 펼치기\n",
        "x.reshape(-1,)       #(9,) = (-1,)"
      ],
      "metadata": {
        "id": "Jre4TnZT5YwK",
        "outputId": "ba2406b4-c537-4001-ed28-6199172392fd",
        "colab": {
          "base_uri": "https://localhost:8080/"
        }
      },
      "execution_count": null,
      "outputs": [
        {
          "output_type": "execute_result",
          "data": {
            "text/plain": [
              "array([1, 2, 3, 4, 5, 6, 7, 8, 9])"
            ]
          },
          "metadata": {},
          "execution_count": 31
        }
      ]
    },
    {
      "cell_type": "markdown",
      "metadata": {
        "id": "MMrKtZy-1Pao"
      },
      "source": [
        "### 1.3. Concatenation of arrays"
      ]
    },
    {
      "cell_type": "code",
      "execution_count": null,
      "metadata": {
        "id": "6g1bOHDn1Pao",
        "outputId": "e8722c17-850b-43d6-c380-adae3d7ed5f7",
        "colab": {
          "base_uri": "https://localhost:8080/"
        }
      },
      "outputs": [
        {
          "output_type": "stream",
          "name": "stdout",
          "text": [
            "[5 7 9]\n",
            "[1 2 3 4 5 6]\n"
          ]
        }
      ],
      "source": [
        "arr1 = np.array([1, 2, 3])\n",
        "arr2 = np.array([4, 5, 6])\n",
        "# arr1 + arr2 = ?\n",
        "print(arr1+arr2)\n",
        "# arr1와 arr2를 합칩니다\n",
        "\n",
        "print(np.concatenate([arr1,arr2]))"
      ]
    },
    {
      "cell_type": "code",
      "execution_count": null,
      "metadata": {
        "id": "ePV80Pwx1Pao",
        "outputId": "3d5b56fe-06c4-4a43-aff4-17bfd2c2211c",
        "colab": {
          "base_uri": "https://localhost:8080/"
        }
      },
      "outputs": [
        {
          "output_type": "execute_result",
          "data": {
            "text/plain": [
              "array([[1, 2, 3],\n",
              "       [4, 5, 6]])"
            ]
          },
          "metadata": {},
          "execution_count": 35
        }
      ],
      "source": [
        "# stacking vertically\n",
        "np.vstack([arr1,arr2])"
      ]
    },
    {
      "cell_type": "code",
      "execution_count": null,
      "metadata": {
        "id": "xcY9pR2M1Pap",
        "outputId": "173e8f97-dc25-4c30-95dc-73df51b32290",
        "colab": {
          "base_uri": "https://localhost:8080/"
        }
      },
      "outputs": [
        {
          "output_type": "execute_result",
          "data": {
            "text/plain": [
              "array([1, 2, 3, 4, 5, 6])"
            ]
          },
          "metadata": {},
          "execution_count": 36
        }
      ],
      "source": [
        "# stacking horizontally\n",
        "np.hstack([arr1,arr2])"
      ]
    },
    {
      "cell_type": "markdown",
      "metadata": {
        "id": "1Pioy4a-1Pap"
      },
      "source": [
        "## 1.4. Array Arithmetic (like vector) --> Universal Function"
      ]
    },
    {
      "cell_type": "code",
      "execution_count": null,
      "metadata": {
        "id": "sxjF6pdh1Pap"
      },
      "outputs": [],
      "source": [
        "# v1 = (1, 2, 3), v2 = (4, 5, 6) 벡터 2개 생성하기.\n",
        "v1= np.array([1,2,3])\n",
        "v2= np.array([4,5,6])"
      ]
    },
    {
      "cell_type": "code",
      "execution_count": null,
      "metadata": {
        "id": "KFKEKB711Pap",
        "outputId": "65ec1b6a-900e-45d6-ac69-c10411e6f258",
        "colab": {
          "base_uri": "https://localhost:8080/"
        }
      },
      "outputs": [
        {
          "output_type": "execute_result",
          "data": {
            "text/plain": [
              "[1, 2, 3, 4, 5, 6, 7, 8]"
            ]
          },
          "metadata": {},
          "execution_count": 39
        }
      ],
      "source": [
        "# 리스트로 더하기 연산해보기\n",
        "L=[1,2,3,4]\n",
        "L2=[5,6,7,8]\n",
        "L+L2"
      ]
    },
    {
      "cell_type": "code",
      "execution_count": null,
      "metadata": {
        "id": "UiDh2wZX1Pap",
        "outputId": "ad37deca-eae1-4b89-89ff-0b029baf4317",
        "colab": {
          "base_uri": "https://localhost:8080/"
        }
      },
      "outputs": [
        {
          "output_type": "execute_result",
          "data": {
            "text/plain": [
              "array([5, 7, 9])"
            ]
          },
          "metadata": {},
          "execution_count": 40
        }
      ],
      "source": [
        "#  vector addition\n",
        "v1+v2"
      ]
    },
    {
      "cell_type": "code",
      "execution_count": null,
      "metadata": {
        "id": "z1uh1zIW1Pap",
        "outputId": "056ae10a-78ca-4d38-f683-da6c0ebbbdbd",
        "colab": {
          "base_uri": "https://localhost:8080/"
        }
      },
      "outputs": [
        {
          "output_type": "execute_result",
          "data": {
            "text/plain": [
              "array([-3, -3, -3])"
            ]
          },
          "metadata": {},
          "execution_count": 41
        }
      ],
      "source": [
        "#  vector subtraction\n",
        "v1-v2"
      ]
    },
    {
      "cell_type": "code",
      "execution_count": null,
      "metadata": {
        "id": "Kp3n7JU91Pap",
        "outputId": "a4536a6b-6574-4490-91ca-f2e562a4d2b3",
        "colab": {
          "base_uri": "https://localhost:8080/"
        }
      },
      "outputs": [
        {
          "output_type": "execute_result",
          "data": {
            "text/plain": [
              "array([ 4, 10, 18])"
            ]
          },
          "metadata": {},
          "execution_count": 42
        }
      ],
      "source": [
        "# (not vector operation) elementwise multiplication\n",
        "v1*v2"
      ]
    },
    {
      "cell_type": "code",
      "execution_count": null,
      "metadata": {
        "id": "WQDxd6ew1Pap",
        "outputId": "5facfd72-fcc8-4bdd-de36-d83591d4075b",
        "colab": {
          "base_uri": "https://localhost:8080/"
        }
      },
      "outputs": [
        {
          "output_type": "execute_result",
          "data": {
            "text/plain": [
              "array([0.25, 0.4 , 0.5 ])"
            ]
          },
          "metadata": {},
          "execution_count": 43
        }
      ],
      "source": [
        "# (not vector operation) elementwise division\n",
        "v1/v2"
      ]
    },
    {
      "cell_type": "code",
      "execution_count": null,
      "metadata": {
        "id": "Kh9DEujN1Pap",
        "outputId": "c0eaf4ab-32bc-404d-f7e8-17a429583633",
        "colab": {
          "base_uri": "https://localhost:8080/"
        }
      },
      "outputs": [
        {
          "output_type": "execute_result",
          "data": {
            "text/plain": [
              "32"
            ]
          },
          "metadata": {},
          "execution_count": 44
        }
      ],
      "source": [
        "# dot product\n",
        "v1 @ v2 # 1x4 + 2x5 + 3x6"
      ]
    },
    {
      "cell_type": "markdown",
      "metadata": {
        "id": "Dp11IV1l1Pap"
      },
      "source": [
        "### 1.5. Broadcast and Universal Function"
      ]
    },
    {
      "cell_type": "markdown",
      "metadata": {
        "id": "lbGKwuWf1Pap"
      },
      "source": [
        "- 서로 크기가 다른 numpy array를 연산할 때, 자동으로 연산을 전파(broadcast)해주는 기능. 행렬곱 연산을 할 때 편리하다."
      ]
    },
    {
      "cell_type": "code",
      "execution_count": null,
      "metadata": {
        "id": "g8pG0d-V1Paq"
      },
      "outputs": [],
      "source": [
        "arr1 = np.array([1,2,3])"
      ]
    },
    {
      "cell_type": "code",
      "execution_count": null,
      "metadata": {
        "id": "CQDgu7vG1Paq",
        "outputId": "69559bf7-f1e6-467d-a3d1-fb11767b3a63",
        "colab": {
          "base_uri": "https://localhost:8080/"
        }
      },
      "outputs": [
        {
          "output_type": "execute_result",
          "data": {
            "text/plain": [
              "(2, 3)"
            ]
          },
          "metadata": {},
          "execution_count": 47
        }
      ],
      "source": [
        "arr2 = np.array([[-1,-1,-1],\n",
        "                 [1,1,1]]) \n",
        "arr2.shape"
      ]
    },
    {
      "cell_type": "code",
      "execution_count": null,
      "metadata": {
        "id": "-4EWUAZB1Paq",
        "outputId": "d99c945e-8086-4768-c069-ad1422102a23",
        "colab": {
          "base_uri": "https://localhost:8080/"
        }
      },
      "outputs": [
        {
          "output_type": "execute_result",
          "data": {
            "text/plain": [
              "array([[0, 1, 2],\n",
              "       [2, 3, 4]])"
            ]
          },
          "metadata": {},
          "execution_count": 48
        }
      ],
      "source": [
        "# 2개의 array를 더해보면?\n",
        "arr1 + arr2 # 2->2->3(v)"
      ]
    },
    {
      "cell_type": "code",
      "execution_count": null,
      "metadata": {
        "id": "EvOolsHz1Paq",
        "outputId": "5c777d49-6e16-4eeb-c4ed-f3f84e146259",
        "colab": {
          "base_uri": "https://localhost:8080/"
        }
      },
      "outputs": [
        {
          "output_type": "execute_result",
          "data": {
            "text/plain": [
              "array([[-1, -2, -3],\n",
              "       [ 1,  2,  3]])"
            ]
          },
          "metadata": {},
          "execution_count": 49
        }
      ],
      "source": [
        "# 2개의 array를 곱해보면? (**)\n",
        "arr1 * arr2"
      ]
    },
    {
      "cell_type": "markdown",
      "source": [
        "- Universal Function : broadcast 기능을 확장해서, numpy array의 모든 원소에 동일한 함수를 반복문으로 적용한 것과 같은 효과를 내는 기능."
      ],
      "metadata": {
        "id": "Rch_pHQW55S-"
      }
    },
    {
      "cell_type": "code",
      "source": [
        "# f = lambda x : 1/x\n",
        "f= lambda x: 1/x\n",
        "\n",
        "for i in arr1:\n",
        "  print(f(i))"
      ],
      "metadata": {
        "id": "AeXAfqUI6H0V",
        "outputId": "be5a77fd-cb4d-49f3-ee20-767b32eb2fac",
        "colab": {
          "base_uri": "https://localhost:8080/"
        }
      },
      "execution_count": null,
      "outputs": [
        {
          "output_type": "stream",
          "name": "stdout",
          "text": [
            "1.0\n",
            "0.5\n",
            "0.3333333333333333\n"
          ]
        }
      ]
    },
    {
      "cell_type": "code",
      "execution_count": null,
      "metadata": {
        "id": "xt20aKq21Paq",
        "outputId": "e47631e1-b72a-40ed-80bf-ab5bad82c307",
        "colab": {
          "base_uri": "https://localhost:8080/"
        }
      },
      "outputs": [
        {
          "output_type": "execute_result",
          "data": {
            "text/plain": [
              "array([3, 4, 5, 6, 7])"
            ]
          },
          "metadata": {},
          "execution_count": 52
        }
      ],
      "source": [
        "# f = lambda x : x + 2\n",
        "arr1 = arr+2\n",
        "arr1"
      ]
    },
    {
      "cell_type": "markdown",
      "metadata": {
        "id": "JQ9vQmo-1Paq"
      },
      "source": [
        "### 1.6. Indexing\n",
        "**numpy의 인덱싱은 list의 인덱싱과 동일하다**"
      ]
    },
    {
      "cell_type": "code",
      "execution_count": null,
      "metadata": {
        "id": "C2U2Y3Sz1Paq"
      },
      "outputs": [],
      "source": [
        "arr1 = np.arange(10)"
      ]
    },
    {
      "cell_type": "code",
      "execution_count": null,
      "metadata": {
        "id": "5WULHYrI1Paq",
        "outputId": "8fc26ae7-9ac0-4ce1-bbff-f3becf5bb42f",
        "colab": {
          "base_uri": "https://localhost:8080/"
        }
      },
      "outputs": [
        {
          "output_type": "execute_result",
          "data": {
            "text/plain": [
              "0"
            ]
          },
          "metadata": {},
          "execution_count": 54
        }
      ],
      "source": [
        "# 첫번째 원소\n",
        "arr1[0]"
      ]
    },
    {
      "cell_type": "code",
      "execution_count": null,
      "metadata": {
        "id": "_N-nEw7V1Paq",
        "outputId": "4d434c94-3fe4-48f3-cb90-40f9890e30e3",
        "colab": {
          "base_uri": "https://localhost:8080/"
        }
      },
      "outputs": [
        {
          "output_type": "execute_result",
          "data": {
            "text/plain": [
              "9"
            ]
          },
          "metadata": {},
          "execution_count": 56
        }
      ],
      "source": [
        "# 마지막 원소\n",
        "arr1[-1]"
      ]
    },
    {
      "cell_type": "code",
      "execution_count": null,
      "metadata": {
        "id": "wNQa8qoO1Paq",
        "outputId": "97bec3ae-b0a2-48ab-cbb2-307bce4617c0",
        "colab": {
          "base_uri": "https://localhost:8080/"
        }
      },
      "outputs": [
        {
          "output_type": "execute_result",
          "data": {
            "text/plain": [
              "array([0, 1, 2])"
            ]
          },
          "metadata": {},
          "execution_count": 58
        }
      ],
      "source": [
        "# 앞에서부터 원소 3개 slicing\n",
        "arr1[:3]"
      ]
    },
    {
      "cell_type": "code",
      "execution_count": null,
      "metadata": {
        "id": "29pYfFvL1Paq",
        "outputId": "c7df066d-90a9-440f-ff9e-6f0649516f79",
        "colab": {
          "base_uri": "https://localhost:8080/"
        }
      },
      "outputs": [
        {
          "output_type": "execute_result",
          "data": {
            "text/plain": [
              "(3, 4)"
            ]
          },
          "metadata": {},
          "execution_count": 59
        }
      ],
      "source": [
        "arr2 = np.array([[1, 2, 3, 4],\n",
        "               [5, 6, 7, 8],\n",
        "               [9, 10, 11, 12]])\n",
        "arr2.shape"
      ]
    },
    {
      "cell_type": "code",
      "execution_count": null,
      "metadata": {
        "id": "p8EFXNq91Paq",
        "outputId": "2ec6104a-882d-4312-f6bf-ceac1ac33222",
        "colab": {
          "base_uri": "https://localhost:8080/"
        }
      },
      "outputs": [
        {
          "output_type": "execute_result",
          "data": {
            "text/plain": [
              "7"
            ]
          },
          "metadata": {},
          "execution_count": 61
        }
      ],
      "source": [
        "# arr2의 2row, 3column 원소 = 7\n",
        "arr2[1,2]"
      ]
    },
    {
      "cell_type": "code",
      "execution_count": null,
      "metadata": {
        "id": "OVgw4bT11Paq",
        "outputId": "a1e3ce68-5c82-4113-b70f-abae949149d8",
        "colab": {
          "base_uri": "https://localhost:8080/"
        }
      },
      "outputs": [
        {
          "output_type": "execute_result",
          "data": {
            "text/plain": [
              "array([ 3,  7, 11])"
            ]
          },
          "metadata": {},
          "execution_count": 66
        }
      ],
      "source": [
        "# arr2의 세번째 column [3, 7, 11]\n",
        "arr2[:,2]"
      ]
    },
    {
      "cell_type": "code",
      "execution_count": null,
      "metadata": {
        "id": "krLo7Tvg1Paq",
        "outputId": "d1791a1b-c97c-4c7b-d0e6-0150f490711b",
        "colab": {
          "base_uri": "https://localhost:8080/"
        }
      },
      "outputs": [
        {
          "output_type": "execute_result",
          "data": {
            "text/plain": [
              "array([ 2,  6, 10])"
            ]
          },
          "metadata": {},
          "execution_count": 68
        }
      ],
      "source": [
        "# arr2의 두번째 row\n",
        "arr2[: , 1]"
      ]
    },
    {
      "cell_type": "code",
      "source": [
        "#arr2의 1행1열 부터 2행 2열까지 추출하라\n",
        "arr2[0:2,0:2]"
      ],
      "metadata": {
        "id": "GRHR2c4QbvC8",
        "outputId": "7f144841-fde8-41b7-83dd-13f2eb1bf9d8",
        "colab": {
          "base_uri": "https://localhost:8080/"
        }
      },
      "execution_count": null,
      "outputs": [
        {
          "output_type": "execute_result",
          "data": {
            "text/plain": [
              "array([[1, 2],\n",
              "       [5, 6]])"
            ]
          },
          "metadata": {},
          "execution_count": 72
        }
      ]
    },
    {
      "cell_type": "markdown",
      "metadata": {
        "id": "nb3NOpgU1Par"
      },
      "source": [
        "## 2. Numpy Methods\n",
        "\n",
        "- numpy에서 사용되는 여러가지 함수들을 사용해봅시다."
      ]
    },
    {
      "cell_type": "markdown",
      "metadata": {
        "id": "wsDCnH9Q1Par"
      },
      "source": [
        "### 2.1. Math Functions "
      ]
    },
    {
      "cell_type": "code",
      "execution_count": null,
      "metadata": {
        "id": "Pme3p6FQ1Par",
        "outputId": "82cf8713-c87e-429d-a01f-5bb611130042",
        "colab": {
          "base_uri": "https://localhost:8080/"
        }
      },
      "outputs": [
        {
          "output_type": "execute_result",
          "data": {
            "text/plain": [
              "array([[ 1.21190834, -0.24100569, -1.9970341 ,  0.77484442],\n",
              "       [ 0.97804661, -1.7344566 , -0.44636269,  0.23814445],\n",
              "       [-1.44011291, -0.33083116, -1.81824085,  1.73909674],\n",
              "       [ 0.2213763 ,  0.80271216,  0.15460324, -0.40820313],\n",
              "       [ 0.07928762, -0.35300587,  0.03773491,  0.93113391]])"
            ]
          },
          "metadata": {},
          "execution_count": 74
        }
      ],
      "source": [
        "# 표준정규분포에서 random sampling을 한 원소를 가지는 5x3 행렬을 만든다.\n",
        "mat1 = np.random.randn(5,4)\n",
        "mat1\n",
        "\n",
        "# -1 과 1 사이의 표준 정규분포를 뽑아준다."
      ]
    },
    {
      "cell_type": "code",
      "execution_count": null,
      "metadata": {
        "id": "YnWulebZ1Par",
        "outputId": "a487aba1-2078-449b-de52-bf5e1f1ef3dd",
        "colab": {
          "base_uri": "https://localhost:8080/"
        }
      },
      "outputs": [
        {
          "output_type": "execute_result",
          "data": {
            "text/plain": [
              "array([[1.21190834, 0.24100569, 1.9970341 , 0.77484442],\n",
              "       [0.97804661, 1.7344566 , 0.44636269, 0.23814445],\n",
              "       [1.44011291, 0.33083116, 1.81824085, 1.73909674],\n",
              "       [0.2213763 , 0.80271216, 0.15460324, 0.40820313],\n",
              "       [0.07928762, 0.35300587, 0.03773491, 0.93113391]])"
            ]
          },
          "metadata": {},
          "execution_count": 75
        }
      ],
      "source": [
        "# mat1에 절대값 씌우기\n",
        "np.abs(mat1)"
      ]
    },
    {
      "cell_type": "code",
      "source": [
        "# mat1 제곱하기\n",
        "np.square(mat1)"
      ],
      "metadata": {
        "id": "LEt94K-t6sdK",
        "outputId": "cab6d1a6-674f-46be-f741-db4912e87e91",
        "colab": {
          "base_uri": "https://localhost:8080/"
        }
      },
      "execution_count": null,
      "outputs": [
        {
          "output_type": "execute_result",
          "data": {
            "text/plain": [
              "array([[1.46872182e+00, 5.80837442e-02, 3.98814519e+00, 6.00383873e-01],\n",
              "       [9.56575177e-01, 3.00833970e+00, 1.99239651e-01, 5.67127770e-02],\n",
              "       [2.07392520e+00, 1.09449256e-01, 3.30599978e+00, 3.02445748e+00],\n",
              "       [4.90074670e-02, 6.44346819e-01, 2.39021631e-02, 1.66629794e-01],\n",
              "       [6.28652713e-03, 1.24613146e-01, 1.42392333e-03, 8.67010351e-01]])"
            ]
          },
          "metadata": {},
          "execution_count": 77
        }
      ]
    },
    {
      "cell_type": "code",
      "source": [
        "# mat1의 제곱근 구하기\n",
        "np.sqrt(mat1)"
      ],
      "metadata": {
        "id": "mFldaHe_6wHC",
        "outputId": "f53b4aac-fdf5-4eba-c990-b1a1c181e093",
        "colab": {
          "base_uri": "https://localhost:8080/"
        }
      },
      "execution_count": null,
      "outputs": [
        {
          "output_type": "stream",
          "name": "stderr",
          "text": [
            "/usr/local/lib/python3.7/dist-packages/ipykernel_launcher.py:2: RuntimeWarning: invalid value encountered in sqrt\n",
            "  \n"
          ]
        },
        {
          "output_type": "execute_result",
          "data": {
            "text/plain": [
              "array([[1.10086708,        nan,        nan, 0.88025247],\n",
              "       [0.98896239,        nan,        nan, 0.48800046],\n",
              "       [       nan,        nan,        nan, 1.31874817],\n",
              "       [0.47050643, 0.89594205, 0.39319619,        nan],\n",
              "       [0.28158058,        nan, 0.19425475, 0.9649528 ]])"
            ]
          },
          "metadata": {},
          "execution_count": 78
        }
      ]
    },
    {
      "cell_type": "code",
      "source": [
        "# linear algebra functions\n",
        "vec = np.array([1,0,0])\n",
        "\n",
        "# 1. norm\n",
        "np.linalg.norm(vec)  #vector의 L2 norm\n",
        "\n",
        "# 2. eigenvalue (벡터의 고유값)\n",
        "mat = np.array([[1,2], [3,4]])\n",
        "np.linalg.eig(mat)"
      ],
      "metadata": {
        "id": "khqI2kwA62Ez",
        "outputId": "d7933279-b5ce-41ea-939b-a70e6a8e5973",
        "colab": {
          "base_uri": "https://localhost:8080/"
        }
      },
      "execution_count": null,
      "outputs": [
        {
          "output_type": "execute_result",
          "data": {
            "text/plain": [
              "(array([-0.37228132,  5.37228132]), array([[-0.82456484, -0.41597356],\n",
              "        [ 0.56576746, -0.90937671]]))"
            ]
          },
          "metadata": {},
          "execution_count": 83
        }
      ]
    },
    {
      "cell_type": "markdown",
      "metadata": {
        "id": "Tk5S0yOf1Par"
      },
      "source": [
        "### 2.2. Aggregation functions \n",
        "**합계함수**"
      ]
    },
    {
      "cell_type": "code",
      "execution_count": null,
      "metadata": {
        "id": "b0ei5LJ51Par",
        "outputId": "46d2bba6-b82a-4f0b-be87-a2dfaf77d3f9",
        "colab": {
          "base_uri": "https://localhost:8080/"
        }
      },
      "outputs": [
        {
          "output_type": "execute_result",
          "data": {
            "text/plain": [
              "array([[0.63973863, 0.31395682],\n",
              "       [0.88283695, 0.24936637],\n",
              "       [0.6468587 , 0.7098764 ]])"
            ]
          },
          "metadata": {},
          "execution_count": 85
        }
      ],
      "source": [
        "mat2 = np.random.rand(3, 2)\n",
        "mat2\n",
        "\n",
        "# 0과 1사이에서 랜덤으로 추출"
      ]
    },
    {
      "cell_type": "code",
      "execution_count": null,
      "metadata": {
        "id": "hMKOS5O51Par",
        "outputId": "b19574c3-0ebe-463e-c0f8-0545cc807801",
        "colab": {
          "base_uri": "https://localhost:8080/"
        }
      },
      "outputs": [
        {
          "output_type": "execute_result",
          "data": {
            "text/plain": [
              "array([0.95369545, 1.13220332, 1.3567351 ])"
            ]
          },
          "metadata": {},
          "execution_count": 92
        }
      ],
      "source": [
        "# Summation\n",
        "np.sum(mat2)\n",
        "\n",
        "np. sum(mat2, axis=0)  #axis=0 열을 기준\n",
        "np.sum(mat2, axis=1)   #axis=1 행을 기준"
      ]
    },
    {
      "cell_type": "code",
      "execution_count": null,
      "metadata": {
        "id": "OdJZdrx_1Par",
        "outputId": "177a02a9-5af7-4023-c22a-79674ca34df2",
        "colab": {
          "base_uri": "https://localhost:8080/"
        }
      },
      "outputs": [
        {
          "output_type": "execute_result",
          "data": {
            "text/plain": [
              "array([0.72314476, 0.42439987])"
            ]
          },
          "metadata": {},
          "execution_count": 88
        }
      ],
      "source": [
        "# mean\n",
        "np.mean(mat2, axis=0)"
      ]
    },
    {
      "cell_type": "code",
      "execution_count": null,
      "metadata": {
        "id": "78xMuXMY1Par",
        "outputId": "610aafa9-5fe8-4091-8fee-ff9c7358d05b",
        "colab": {
          "base_uri": "https://localhost:8080/"
        }
      },
      "outputs": [
        {
          "output_type": "execute_result",
          "data": {
            "text/plain": [
              "0.22229175643954122"
            ]
          },
          "metadata": {},
          "execution_count": 93
        }
      ],
      "source": [
        "# std\n",
        "np.std(mat2)"
      ]
    },
    {
      "cell_type": "code",
      "execution_count": null,
      "metadata": {
        "id": "KzfPurFc1Par",
        "outputId": "10699ec0-1d0c-4764-a082-d76c1421f8b3",
        "colab": {
          "base_uri": "https://localhost:8080/"
        }
      },
      "outputs": [
        {
          "output_type": "execute_result",
          "data": {
            "text/plain": [
              "array([0.63973863, 0.88283695, 0.7098764 ])"
            ]
          },
          "metadata": {},
          "execution_count": 102
        }
      ],
      "source": [
        "# min, max\n",
        "np.min(mat2, axis=0)\n",
        "np.max(mat2, axis=1)"
      ]
    },
    {
      "cell_type": "code",
      "execution_count": null,
      "metadata": {
        "id": "YtRtiSG31Pas",
        "outputId": "839c8ee8-24cd-4d11-827a-dfd6e69eada8",
        "colab": {
          "base_uri": "https://localhost:8080/"
        }
      },
      "outputs": [
        {
          "output_type": "execute_result",
          "data": {
            "text/plain": [
              "array([0, 1])"
            ]
          },
          "metadata": {},
          "execution_count": 106
        }
      ],
      "source": [
        "# 최소값이 있는 Index\n",
        "np.argmin(mat2, axis=0)\n"
      ]
    },
    {
      "cell_type": "code",
      "execution_count": null,
      "metadata": {
        "id": "0cndLCKl1Pas",
        "outputId": "a30ed038-1ad3-449e-ffba-7cd89e905cb3",
        "colab": {
          "base_uri": "https://localhost:8080/"
        }
      },
      "outputs": [
        {
          "output_type": "execute_result",
          "data": {
            "text/plain": [
              "array([0, 0, 1])"
            ]
          },
          "metadata": {},
          "execution_count": 107
        }
      ],
      "source": [
        "# 최대값이 있는 Index\n",
        "np.argmax(mat2, axis=1)"
      ]
    },
    {
      "cell_type": "code",
      "execution_count": null,
      "metadata": {
        "id": "y2LVvF5b1Pas",
        "outputId": "f66392c9-b402-4332-9659-0ada9b9f2bb6",
        "colab": {
          "base_uri": "https://localhost:8080/"
        }
      },
      "outputs": [
        {
          "output_type": "execute_result",
          "data": {
            "text/plain": [
              "array([[0.88283695, 0.7098764 ],\n",
              "       [0.6468587 , 0.31395682],\n",
              "       [0.63973863, 0.24936637]])"
            ]
          },
          "metadata": {},
          "execution_count": 110
        }
      ],
      "source": [
        "# 그냥 정렬 (오름차순 정렬만 지원합니다)\n",
        "np.sort(mat2)\n",
        "\n",
        "# 만약 내림차순으로 하겠다면?\n",
        "np.sort(mat2, axis=0)[::-1]"
      ]
    },
    {
      "cell_type": "code",
      "execution_count": null,
      "metadata": {
        "id": "mLeMOv7f1Pas",
        "outputId": "e9603d95-df25-40a1-db79-3bbb320d7963",
        "colab": {
          "base_uri": "https://localhost:8080/"
        }
      },
      "outputs": [
        {
          "output_type": "execute_result",
          "data": {
            "text/plain": [
              "array([[0, 1],\n",
              "       [2, 0],\n",
              "       [1, 2]])"
            ]
          },
          "metadata": {},
          "execution_count": 111
        }
      ],
      "source": [
        "# index를 정렬\n",
        "np.argsort(mat2, axis=0)"
      ]
    },
    {
      "cell_type": "markdown",
      "metadata": {
        "id": "2a2AgVdm1Pas"
      },
      "source": [
        "## 3. \bPerformance Check"
      ]
    },
    {
      "cell_type": "markdown",
      "metadata": {
        "id": "ciO_FLLW1Pas"
      },
      "source": [
        "- Universal Function 기능을 통해 반복문을 사용한 것보다 훨씬 빠른 성능을 냅니다.\n",
        "\n",
        "\n",
        "- 직접 실험을 통해 그 차이를 확인해보겠습니다."
      ]
    },
    {
      "cell_type": "code",
      "execution_count": null,
      "metadata": {
        "id": "oVBZX1U31Pas"
      },
      "outputs": [],
      "source": [
        "np.random.seed(0) #random에 대한 실행 결과를 고정\n",
        "\n",
        "def reverse_num(values):\n",
        "    output = np.empty(len(values))\n",
        "    \n",
        "    for i in range(len(values)):\n",
        "        output[i] = 1.0 / values[i]\n",
        "    \n",
        "    return output"
      ]
    },
    {
      "cell_type": "code",
      "execution_count": null,
      "metadata": {
        "id": "aagBlNXs1Pas"
      },
      "outputs": [],
      "source": [
        "# 1부터 100까지 범위에서 1000000개를 랜덤으로 뽑아서 array를 만듭니다.\n",
        "big_array = np.random.randint(1,100,10000000000000)\n",
        "big_array"
      ]
    },
    {
      "cell_type": "code",
      "execution_count": null,
      "metadata": {
        "id": "VMyEUiVM1Pas",
        "outputId": "18a7a1a1-2e56-4235-d69b-2faa46f0a4c6",
        "colab": {
          "base_uri": "https://localhost:8080/"
        }
      },
      "outputs": [
        {
          "output_type": "stream",
          "name": "stdout",
          "text": [
            "2.48 s ± 525 ms per loop (mean ± std. dev. of 7 runs, 1 loop each)\n"
          ]
        }
      ],
      "source": [
        "%timeit reverse_num(big_array)"
      ]
    },
    {
      "cell_type": "code",
      "execution_count": null,
      "metadata": {
        "id": "k7PvHI7-1Pas",
        "outputId": "fdfa1b18-b9bc-4a14-95cf-8c35ed3369e1",
        "colab": {
          "base_uri": "https://localhost:8080/"
        }
      },
      "outputs": [
        {
          "output_type": "stream",
          "name": "stdout",
          "text": [
            "1.95 ms ± 74.3 µs per loop (mean ± std. dev. of 7 runs, 1000 loops each)\n"
          ]
        }
      ],
      "source": [
        "%timeit 1.0 / big_array"
      ]
    },
    {
      "cell_type": "code",
      "execution_count": null,
      "metadata": {
        "id": "_11lEint1Pas"
      },
      "outputs": [],
      "source": []
    }
  ],
  "metadata": {
    "kernelspec": {
      "display_name": "Python 3 (ipykernel)",
      "language": "python",
      "name": "python3"
    },
    "language_info": {
      "codemirror_mode": {
        "name": "ipython",
        "version": 3
      },
      "file_extension": ".py",
      "mimetype": "text/x-python",
      "name": "python",
      "nbconvert_exporter": "python",
      "pygments_lexer": "ipython3",
      "version": "3.8.2"
    },
    "colab": {
      "provenance": []
    }
  },
  "nbformat": 4,
  "nbformat_minor": 0
}